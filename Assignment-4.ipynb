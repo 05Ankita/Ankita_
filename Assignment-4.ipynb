{
 "cells": [
  {
   "cell_type": "raw",
   "id": "5eef9670",
   "metadata": {},
   "source": [
    "1. What exactly is []?\n",
    "Ans:Empty list\n",
    "\n",
    "2.In a list of values stored in a variable called spam, how would you assign the value 'hello' as the third value? (Assume [2, 4, 6, 8, 10] are in spam.)\n",
    "Ans:\n",
    "spam=[2,4,6,8,10]\n",
    "spam.insert(2,'hello')\n",
    "print(spam)\n",
    "\n",
    "Let's pretend the spam includes the list ['a', 'b', 'c', 'd'] for the next three queries.\n",
    "3. What is the value of spam[int(int('3' * 2) / 11)]?\n",
    "Ans:'d'\n",
    "\n",
    "4. What is the value of spam[-1]?\n",
    "Ans:'d'\n",
    "\n",
    "5. What is the value of spam[:2]?\n",
    "Ans:['a','b']\n",
    "\n",
    "Let's pretend bacon has the list [3.14, 'cat,' 11, 'cat,' True] for the next three questions.\n",
    "6. What is the value of bacon.index('cat')?\n",
    "Ans:3\n",
    "\n",
    "7. How does bacon.append(99) change the look of the list value in bacon?\n",
    "Ans:[3.14,'cat',11,'cat','True',99]\n",
    "\n",
    "8. How does bacon.remove('cat') change the look of the list in bacon?\n",
    "Ans:[3.14, 11, 'cat', ' True']\n",
    "\n",
    "9. What are the list concatenation and list replication operators?\n",
    "Ans:'+' is the list concatenation and '*' is the list replication operators.\n",
    "\n",
    "10. What is difference between the list methods append() and insert()?\n",
    "Ans:In append() method we can only append item at the end of the list\n",
    "ex:list=[1,2,3,4]\n",
    "list.append(\"hello\")\n",
    "Output:[1,2,3,4,'hello']\n",
    "\n",
    "In insert() method we can add item at any particular location.\n",
    "ex:list.insert(2,'hello')\n",
    "Output:[1,2,'hello',3,4]\n",
    "\n",
    "11. What are the two methods for removing items from a list?\n",
    "Ans:remove() and clear()\n",
    "\n",
    "12. Describe how list values and string values are identical.\n",
    "\n",
    "13. What's the difference between tuples and lists?\n",
    "Ans:Lists are mutable but tuples are immutable.Lists are written within square bracket and tuples are written within parenthesis.\n",
    "\n",
    "14. How do you type a tuple value that only contains the integer 42?\n",
    "Ans:tuple=(42)\n",
    "\n",
    "15. How do you get a list value's tuple form? How do you get a tuple value's list form?\n",
    "\n",
    "16. Variables that \"contain\" list values are not necessarily lists themselves. Instead, what do they contain?\n",
    "Ans:String\n",
    "17. How do you distinguish between copy.copy() and copy.deepcopy()?\n",
    "\n"
   ]
  },
  {
   "cell_type": "code",
   "execution_count": 20,
   "id": "a5ef3b07",
   "metadata": {},
   "outputs": [
    {
     "name": "stdout",
     "output_type": "stream",
     "text": [
      "[3.14, 11, 'cat', ' True']\n"
     ]
    }
   ],
   "source": [
    "bacon=[3.14, 'cat', 11, 'cat',' True'] \n",
    "bacon.pop(1)\n",
    "print(bacon)"
   ]
  },
  {
   "cell_type": "code",
   "execution_count": 18,
   "id": "e953e079",
   "metadata": {},
   "outputs": [
    {
     "name": "stdout",
     "output_type": "stream",
     "text": [
      "['a', 'c', 'd']\n"
     ]
    }
   ],
   "source": [
    "l=['a', 'b', 'c', 'd']\n",
    "del l[1]\n",
    "print(l)"
   ]
  },
  {
   "cell_type": "code",
   "execution_count": 22,
   "id": "6c0d0568",
   "metadata": {},
   "outputs": [
    {
     "name": "stdout",
     "output_type": "stream",
     "text": [
      "42\n"
     ]
    }
   ],
   "source": [
    "tuple=(42)\n",
    "print(tuple)"
   ]
  },
  {
   "cell_type": "code",
   "execution_count": 27,
   "id": "9dd3af04",
   "metadata": {},
   "outputs": [
    {
     "name": "stdout",
     "output_type": "stream",
     "text": [
      "[1, 2, 3, 4]\n"
     ]
    }
   ],
   "source": [
    "import copy\n",
    "l1=[1,2,3,4]\n",
    "li2=copy.copy(l1)\n",
    "print(li2)"
   ]
  },
  {
   "cell_type": "code",
   "execution_count": null,
   "id": "2eba73dd",
   "metadata": {},
   "outputs": [],
   "source": []
  }
 ],
 "metadata": {
  "kernelspec": {
   "display_name": "Python 3 (ipykernel)",
   "language": "python",
   "name": "python3"
  },
  "language_info": {
   "codemirror_mode": {
    "name": "ipython",
    "version": 3
   },
   "file_extension": ".py",
   "mimetype": "text/x-python",
   "name": "python",
   "nbconvert_exporter": "python",
   "pygments_lexer": "ipython3",
   "version": "3.9.7"
  }
 },
 "nbformat": 4,
 "nbformat_minor": 5
}
