{
 "cells": [
  {
   "cell_type": "raw",
   "id": "21a206ac",
   "metadata": {},
   "source": [
    "1. In the below elements which of them are values or an expression? eg:- values can be\n",
    "integer or string and expressions will be mathematical operators.\n",
    "* \n",
    "'hello'\n",
    "-87.8\n",
    "- \n",
    "/ \n",
    "  +\n",
    "6 \n",
    "ans:values:'hello' 6 \n",
    "    expression:* - / +\n",
    "\n",
    "\n",
    "2.What is the difference between string and variable?\n",
    "String:String is a collection of characters which is written within double or single quote.String is a type of datatype.\n",
    "ex:\"ineuron\"\n",
    "Variable:In variable we can store any kind of datatype.Variable is mutable,we can change the stored value.\n",
    "ex:x='a',y=67\n",
    "\n",
    "3.Describe three different data types.\n",
    "Ans:There are 3 data types,Integer,String,Float.\n",
    "Integer:It contains only integer.ex:1,2,-8,-56\n",
    "String:It contains sequential characters.ex:\"data\",\"info\"\n",
    "Float:It contains floating point numbers.ex:98.4\n",
    "\n",
    "4.What is an expression made up of? What do all expressions do?\n",
    "Ans:Expression is a combination of values and functions that are combined and produce results.All expressions gives results.\n",
    "ex:input:3+6\n",
    "   output:9\n",
    "   \n",
    "5.This assignment statements, like spam = 10. What is the difference between an expression and a statement?\n",
    "Ans:Expression is a combination of values and functions when executed gives result.\n",
    "ex:5+6\n",
    "But statement when executed may or may not give results.ex:a=9\n",
    "\n",
    "6.After running the following code, what does the variable bacon contain?\n",
    "bacon = 22\n",
    "bacon + 1\n",
    "Ans:23\n",
    "\n",
    "7. What should the values of the following two terms be?\n",
    "'spam' + 'spamspam'\n",
    "'spam' * 3\n",
    "Ans:spamspamspam\n",
    "    spamspamspam\n",
    "\n",
    "\n",
    "8. Why is eggs a valid variable name while 100 is invalid?\n",
    "Ans:In eggs,it starts with 'e' which will not give any error but in 100 it starts with an interger which will give compile time error.\n",
    "\n",
    "10. Why does this expression cause an error? How can you fix it?\n",
    "'I have eaten ' + 99 + ' burritos.'\n",
    "Ans:String can only concatenate.Here 99 is an integer so its throwing error.\n",
    "We can fix it by writting 'I have eaten'+'99'+'burritos'\n",
    "\n"
   ]
  }
 ],
 "metadata": {
  "kernelspec": {
   "display_name": "Python 3 (ipykernel)",
   "language": "python",
   "name": "python3"
  },
  "language_info": {
   "codemirror_mode": {
    "name": "ipython",
    "version": 3
   },
   "file_extension": ".py",
   "mimetype": "text/x-python",
   "name": "python",
   "nbconvert_exporter": "python",
   "pygments_lexer": "ipython3",
   "version": "3.9.7"
  }
 },
 "nbformat": 4,
 "nbformat_minor": 5
}
