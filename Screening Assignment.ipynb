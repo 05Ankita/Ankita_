{
 "cells": [
  {
   "cell_type": "markdown",
   "metadata": {},
   "source": [
    "1. Create a function in python to read the text file and replace specific content\n",
    "of the file.\n",
    "\n",
    "File name example.txt\n",
    "Origin file content This is a placement assignment\n",
    "Replace string Placement should be replaced by\n",
    "\n",
    "screening.\n",
    "\n",
    "Replaced file content This is a screening assignment\n",
    "Ans:\n",
    "with open('example.txt','r')as file:\n",
    "    filedata=file.read()\n",
    "    filedata=filedata.replace('placement','screening')\n",
    "with open('example.txt','w') as file:\n",
    "    file.write(filedata)\n",
    "    \n",
    "2. Demonstrate use of abstract class, multiple inheritance and decorator in\n",
    "python using examples.\n",
    "Ans:An abstract method is a method that has a declaration but does not have an implementation.A class is called abstract class only if it has at least one abstract method.\n",
    "when you inherit a abstract class as a parent to the child class,the child class should define all the abstract method present int parent class,if it is not done the child class also becomes abstract class automatically.When we want to provide a common interface for different implementations of a component,we use an abstract class.\n",
    "Python by default doesnot support abstract class and abstract method,so there is a package called ABC(abstract base classes) by which we can make a class or method. \n",
    "example:\n",
    "from abc import ABC,abstactmethod\n",
    "class Animal(ABC):\n",
    "    @abstractmethod\n",
    "    def eat(self):\n",
    "        pass\n",
    "class Dog(Animal):\n",
    "    def eat(self):\n",
    "        print(\"I eat meat\")\n",
    "class Jack(Dog):\n",
    "    def eat(self):\n",
    "        print(\"i am a dog and i eat only meat)\n",
    "D=Dog()\n",
    "D.eat()\n",
    "J=Jack()\n",
    "J.eat()\n",
    "\n",
    "Multiple inheritance:\n",
    "Inheritance is used to resuse the code.\n",
    "Multiple inheitance means when a child class is derives features from more than one parent class is called multiple inheritance.Python supports multiple inheitance unlike java.\n",
    "example:\n",
    "class Father:\n",
    "    def heigth(self):\n",
    "        print(\"I have inherit my height from my father\")\n",
    "class Mother:\n",
    "    def health(self):\n",
    "        print(\"My healthy hair secret inherit from my mother\")\n",
    "class Child(Father,Mother):\n",
    "    pass\n",
    "v=Child()\n",
    "v.heigth()\n",
    "v.health()\n",
    "\n",
    "Decorator:\n",
    "Decorators are a very powerful and useful tool in python since it allows programmers to modify the behaviour of a function or class.Decorators allows us to wrap another function in order to extend the behaviour of the wrapped function,without permanently modifying it.\n",
    "def fun1(msg):\n",
    "    print(msg)\n",
    "fun1(\"hello\")\n",
    "fun2=fun1\n",
    "fun2(\"hello\")"
   ]
  },
  {
   "cell_type": "code",
   "execution_count": null,
   "metadata": {},
   "outputs": [],
   "source": []
  },
  {
   "cell_type": "code",
   "execution_count": 2,
   "metadata": {},
   "outputs": [
    {
     "name": "stdout",
     "output_type": "stream",
     "text": [
      "I have inherit my height from my father\n",
      "My healthy hair secret inherit from my mother\n"
     ]
    }
   ],
   "source": [
    "class Father:\n",
    "    def heigth(self):\n",
    "        print(\"I have inherit my height from my father\")\n",
    "class Mother:\n",
    "    def health(self):\n",
    "        print(\"My healthy hair secret inherit from my mother\")\n",
    "class Child(Father,Mother):\n",
    "    pass\n",
    "v=Child()\n",
    "v.heigth()\n",
    "v.health()\n",
    "            "
   ]
  },
  {
   "cell_type": "code",
   "execution_count": null,
   "metadata": {},
   "outputs": [],
   "source": []
  }
 ],
 "metadata": {
  "kernelspec": {
   "display_name": "Python 3",
   "language": "python",
   "name": "python3"
  },
  "language_info": {
   "codemirror_mode": {
    "name": "ipython",
    "version": 3
   },
   "file_extension": ".py",
   "mimetype": "text/x-python",
   "name": "python",
   "nbconvert_exporter": "python",
   "pygments_lexer": "ipython3",
   "version": "3.8.5"
  }
 },
 "nbformat": 4,
 "nbformat_minor": 4
}
