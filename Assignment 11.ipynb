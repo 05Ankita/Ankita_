{
 "cells": [
  {
   "cell_type": "markdown",
   "id": "7f9e0fcd",
   "metadata": {},
   "source": [
    "1. Create an assert statement that throws an AssertionError if the variable spam is a negative integer.\n",
    "Ans:\n",
    "spam=int(input())\n",
    "if spam<0:\n",
    "    raise AssertionError(\"The number is negative\")\n",
    "    \n",
    "2. Write an assert statement that triggers an AssertionError if the variables eggs and bacon contain strings that are the same as each other, even if their cases are different (that is, 'hello' and 'hello' are considered the same, and 'goodbye' and 'GOODbye' are also considered the same).\n",
    "Ans:\n",
    "eggs=input()\n",
    "e=eggs.upper()\n",
    "bacon=input()\n",
    "b=bacon.upper()\n",
    "if e==b:\n",
    "    raise AssertionError(\"Both eggs and bacon contains same string\")\n",
    "    \n",
    "3. Create an assert statement that throws an AssertionError every time.\n",
    "Ans:\n",
    "a=input()\n",
    "raise AssertionError(\"Everytime throws Assertion Error\")\n",
    "\n",
    "4. What are the two lines that must be present in your software in order to call logging.debug()?\n",
    "\n",
    "5. What are the two lines that your program must have in order to have logging.debug() send a logging message to a file named programLog.txt?\n",
    "Ans:\n",
    "import logging\n",
    "logging.basicConfig(filename='programLog.txt',level=logging.DEBUG,format='%(asctime)s-%(levelname)s-%(message)s')\n",
    "\n",
    "6. What are the five levels of logging?\n",
    "Ans:DEBUG,INGO,WARNING,ERROR,CRITICAL\n",
    "\n",
    "7. What line of code would you add to your software to disable all logging messages?\n",
    "Ans:logging.disable(logging.CRITICAL)\n",
    "\n",
    "8.Why is using logging messages better than using print() to display the same message?\n",
    "Ans:Whenever we want we can disabl the logging messages without removing the logging function calls,Logging function provides timestamp.It saves in a separate file which is easy for the developer to see what happened when.Print() doesnot provide time stamp as well as it has no separate file option.\n",
    "\n",
    "9. What are the differences between the Step Over, Step In, and Step Out buttons in the debugger?\n",
    "The Step button will move the debugger into a function call.The Over button will quickly execute the function call without stepping into it.The Out button will quickly execute the rest of the code until it steps out of the function it currently is in.\n",
    "\n",
    "10.After you click Continue, when will the debugger stop ?\n",
    "Ans:After clicking Continue it will stop at the end of the code or when it will see breakpoint.\n",
    "\n",
    "11. What is the concept of a breakpoint?\n",
    "Ans:Breakpoint causes the programmer to pause when the program reaches the line.\n"
   ]
  },
  {
   "cell_type": "code",
   "execution_count": null,
   "id": "7d5af115",
   "metadata": {},
   "outputs": [],
   "source": []
  }
 ],
 "metadata": {
  "kernelspec": {
   "display_name": "Python 3 (ipykernel)",
   "language": "python",
   "name": "python3"
  },
  "language_info": {
   "codemirror_mode": {
    "name": "ipython",
    "version": 3
   },
   "file_extension": ".py",
   "mimetype": "text/x-python",
   "name": "python",
   "nbconvert_exporter": "python",
   "pygments_lexer": "ipython3",
   "version": "3.9.7"
  }
 },
 "nbformat": 4,
 "nbformat_minor": 5
}
