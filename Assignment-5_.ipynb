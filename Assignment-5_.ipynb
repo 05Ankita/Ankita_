{
 "cells": [
  {
   "cell_type": "raw",
   "id": "0a6cbe32",
   "metadata": {},
   "source": [
    "1. What does an empty dictionary's code look like?\n",
    "Ans:{}\n",
    "\n",
    "2. What is the value of a dictionary value with the key 'foo' and the value 42?\n",
    "Ans:42\n",
    "\n",
    "3. What is the most significant distinction between a dictionary and a list?\n",
    "Ans:Dictionary takes items in key value pair,list takes only items separated by comma not in key value pair.List is a ordered collection of data values ans dictionary is a collection of unordered collection of data values.\n",
    "\n",
    "4. What happens if you try to access spam['foo'] if spam is {'bar': 100}?\n",
    "Ans:error\n",
    "\n",
    "5.If a dictionary is stored in spam, what is the difference between the expressions 'cat' in spam and 'cat' in spam.keys()?\n",
    "Ans:'cat' in sapm will be True.'cat' in spam.keys() will be true if 'cat' is key but if 'cat' is value then 'cat' in spam.keys() will give False.\n",
    "\n",
    "6. If a dictionary is stored in spam, what is the difference between the expressions 'cat' in spam and 'cat' in spam.values()?\n",
    "Ans:'cat' in sapm will be True.'cat' in spam.values() will be true if 'cat' is value but if 'cat' is key then 'cat' in spam.values() will give False.\n",
    "\n",
    "7. What is a shortcut for the following code?\n",
    "if 'color' not in spam:\n",
    "spam['color'] = 'black'\n",
    "\n",
    "8. How do you \"pretty print\" dictionary values using which module and function?\n",
    "Ans:pprint()\n"
   ]
  }
 ],
 "metadata": {
  "kernelspec": {
   "display_name": "Python 3 (ipykernel)",
   "language": "python",
   "name": "python3"
  },
  "language_info": {
   "codemirror_mode": {
    "name": "ipython",
    "version": 3
   },
   "file_extension": ".py",
   "mimetype": "text/x-python",
   "name": "python",
   "nbconvert_exporter": "python",
   "pygments_lexer": "ipython3",
   "version": "3.9.7"
  }
 },
 "nbformat": 4,
 "nbformat_minor": 5
}
