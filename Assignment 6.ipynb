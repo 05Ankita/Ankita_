{
 "cells": [
  {
   "cell_type": "raw",
   "id": "c3a2d59f",
   "metadata": {},
   "source": [
    "1. What are escape characters, and how do you use them?\n",
    "Ans:\\n and \\t are escape characters.\n",
    "2. What do the escape characters n and t stand for?\n",
    "Ans:n stands for new line and t stands for tab space.\n",
    "3. What is the way to include backslash characters in a string?\n",
    "Ans:we can include \"\\\" by putting it in double quotation.example:\"ineu\"\\\\\"ron\".\n",
    "4. The string \"Howl's Moving Castle\" is a correct value. Why isn't the single quote character in the word Howl's not escaped a problem?\n",
    "5. How do you write a string of newlines if you don't want to use the n character?\n",
    "6. What are the values of the given expressions?\n",
    "'Hello, world!'[1]                  Ans:'e'\n",
    "'Hello, world!'[0:5]                Ans:'Hello'\n",
    "'Hello, world!'[:5]                 Ans:'Hello'\n",
    "'Hello, world!'[3:]                 Ans:'lo,world!'\n",
    "\n",
    "7. What are the values of the following expressions?\n",
    "'Hello'.upper()                       Ans:'HELLO'\n",
    "'Hello'.upper().isupper()             Ans:True\n",
    "'Hello'.upper().lower()               Ans:'hello'\n",
    "8. What are the values of the following expressions?\n",
    "'Remember, remember, the fifth of July.'.split()\n",
    "Ans:'Remember,','remember,','the','fifth','of','July.'\n",
    "'-'.join('There can only one.'.split())\n",
    "Ans:'There-can-only-one.'\n",
    "9. What are the methods for right-justifying, left-justifying, and centering a string?\n",
    "Ans:.rstrip() for right justifying,.lstrip() for left justifying and .center(argument,argument length) is for centering a string.\n",
    "10. What is the best way to remove whitespace characters from the start or end?\n",
    "Ans:.strip()\n"
   ]
  }
 ],
 "metadata": {
  "kernelspec": {
   "display_name": "Python 3 (ipykernel)",
   "language": "python",
   "name": "python3"
  },
  "language_info": {
   "codemirror_mode": {
    "name": "ipython",
    "version": 3
   },
   "file_extension": ".py",
   "mimetype": "text/x-python",
   "name": "python",
   "nbconvert_exporter": "python",
   "pygments_lexer": "ipython3",
   "version": "3.9.7"
  }
 },
 "nbformat": 4,
 "nbformat_minor": 5
}
