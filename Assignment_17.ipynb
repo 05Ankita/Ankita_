{
 "cells": [
  {
   "cell_type": "markdown",
   "id": "84b6456b",
   "metadata": {},
   "source": [
    "1. Assign the value 7 to the variable guess_me. Then, write the conditional tests (if, else, and elif) to print the string 'too low' if guess_me is less than 7, 'too high' if greater than 7, and 'just right' if equal to 7.\n",
    "Ans:\n",
    "guess_me=7\n",
    "if guess_me<7:\n",
    "    print(\"too low\")\n",
    "elif guess_me>7:\n",
    "    print(\"too high\")\n",
    "else:\n",
    "    print(\"just right\")\n",
    "    \n",
    "2. Assign the value 7 to the variable guess_me and the value 1 to the variable start. Write a while loop that compares start with guess_me. Print too low if start is less than guess me. If start equals guess_me, print 'found it!' and exit the loop. If start is greater than guess_me, print 'oops' and exit the loop. Increment start at the end of the loop.\n",
    "Ans:\n",
    "3. Print the following values of the list [3, 2, 1, 0] using a for loop.\n",
    "Ans:\n",
    "l=[3,2,1,0]\n",
    "for i in l:\n",
    "    print(l)\n",
    "\n",
    "4. Use a list comprehension to make a list of the even numbers in range(10)\n",
    "Ans:\n",
    "for i in range(11):\n",
    "    if i%2==0:\n",
    "        print(i)\n",
    "    \n",
    "5. Use a dictionary comprehension to create the dictionary squares. Use range(10) to return the keys, and use the square of each key as its value.\n",
    "Ans:\n",
    "squares={}\n",
    "for i in range(10):\n",
    "    squares[i]=i*i\n",
    "    \n",
    "6. Construct the set odd from the odd numbers in the range using a set comprehension (10).\n",
    "Ans:\n",
    "odd=[]\n",
    "for i in range(10):\n",
    "    if i%2!=0:\n",
    "        odd.append(i)\n",
    "set(l)\n",
    "\n",
    "7. Use a generator comprehension to return the string 'Got ' and a number for the numbers in range(10). Iterate through this by using a for loop.\n",
    "8. Define a function called good that returns the list ['Harry', 'Ron', 'Hermione'].\n",
    "Ans:\n",
    "def good(l):\n",
    "    return l\n",
    "l=['Harry', 'Ron', 'Hermione']\n",
    "good(l)\n",
    "\n",
    "9. Define a generator function called get_odds that returns the odd numbers from range(10). Use a for loop to find and print the third value returned.\n",
    "10. Define an exception called OopsException. Raise this exception to see what happens. Then write the code to catch this exception and print 'Caught an oops'.\n",
    "11. Use zip() to make a dictionary called movies that pairs these lists: titles = ['Creature of Habit', 'Crewel Fate'] and plots = ['A nun turns into a monster', 'A haunted yarn shop'].\n",
    "Ans:\n",
    "d={}\n",
    "titles = ['Creature of Habit', 'Crewel Fate']\n",
    "plots = ['A nun turns into a monster', 'A haunted yarn shop']\n",
    "for i in titles:\n",
    "    for j in plots:\n",
    "        d[i]=j"
   ]
  }
 ],
 "metadata": {
  "kernelspec": {
   "display_name": "Python 3 (ipykernel)",
   "language": "python",
   "name": "python3"
  },
  "language_info": {
   "codemirror_mode": {
    "name": "ipython",
    "version": 3
   },
   "file_extension": ".py",
   "mimetype": "text/x-python",
   "name": "python",
   "nbconvert_exporter": "python",
   "pygments_lexer": "ipython3",
   "version": "3.9.7"
  }
 },
 "nbformat": 4,
 "nbformat_minor": 5
}
