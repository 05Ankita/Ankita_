{
 "cells": [
  {
   "cell_type": "markdown",
   "id": "4f94af58",
   "metadata": {},
   "source": [
    "1. Create a zoo.py file first. Define the hours() function, which prints the string 'Open 9-5 daily'. Then, use the interactive interpreter to import the zoo module and call its hours() function.\n",
    "Ans:\n",
    "Create zoo.py:\n",
    "def hours():\n",
    "  print(\"Open 9-5 daily')\n",
    "#Save the file as zoo.py\n",
    "Interactive Interpreter:\n",
    "import zoo\n",
    "zoo.hours()\n",
    "\n",
    "2. In the interactive interpreter, import the zoo module as menagerie and call its hours() function.\n",
    "Ans:\n",
    "import zoo as menagerie\n",
    "menagerie.hours()\n",
    "\n",
    "3. Using the interpreter, explicitly import and call the hours() function from zoo.\n",
    "Ans:\n",
    "from zoo import hours\n",
    "hours()\n",
    "\n",
    "4. Import the hours() function as info and call it.\n",
    "Ans:\n",
    "from zoo import hours as info\n",
    "info()\n",
    "\n",
    "5. Create a plain dictionary with the key-value pairs 'a': 1, 'b': 2, and 'c': 3, and print it out.\n",
    "Ans:\n",
    "plain_dictionary = { 'a': 1, 'b': 2, 'c': 3}\n",
    "\n",
    "6.Make an OrderedDict called fancy from the same pairs listed in 5 and print it. Did it print in the same order as plain?\n",
    "Ans:\n",
    "from collections import OrderedDict\n",
    "fancy = OrderedDict(plain_dictionary)\n",
    "print(fancy)\n",
    "\n",
    "7. Make a default dictionary called dict_of_lists and pass it the argument list. Make the list dict_of_lists['a'] and append the value 'something for a' to it in one assignment. Print dict_of_lists['a'].\n",
    "Ans:\n",
    "dict_of_lists = ['a']\n",
    "dict_of_lists.append(39)\n",
    "dict_of_lists = dict(zip([dict_of_list[0]], [dict_of_lists[1]])\n",
    "print(dict_of_lists['a'])\n"
   ]
  }
 ],
 "metadata": {
  "kernelspec": {
   "display_name": "Python 3 (ipykernel)",
   "language": "python",
   "name": "python3"
  },
  "language_info": {
   "codemirror_mode": {
    "name": "ipython",
    "version": 3
   },
   "file_extension": ".py",
   "mimetype": "text/x-python",
   "name": "python",
   "nbconvert_exporter": "python",
   "pygments_lexer": "ipython3",
   "version": "3.9.7"
  }
 },
 "nbformat": 4,
 "nbformat_minor": 5
}
